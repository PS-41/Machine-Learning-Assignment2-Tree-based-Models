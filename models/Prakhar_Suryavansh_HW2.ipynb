{
 "cells": [
  {
   "cell_type": "markdown",
   "metadata": {},
   "source": [
    "# Machine Learning Assignment Homework 2: Tree-based Models\n",
    "\n",
    "## Introduction\n",
    "In this notebook, we will create a classification tree from scratch and use a decision-tree based ensemble Machine Learning algorithm known as Boosting, particularly XGBoost (eXtreme Gradient Boosting) to improve predictive performance.  \n",
    "The notebook will cover the following major steps:\n",
    "- Data Processing\n",
    "- Exploratory Data Analysis\n",
    "- Classification Tree Implementation\n",
    "- Boosting (XGBoost)\n",
    "- Result Analysis and Inference"
   ]
  },
  {
   "cell_type": "markdown",
   "metadata": {},
   "source": [
    "## Data Processing"
   ]
  },
  {
   "cell_type": "markdown",
   "metadata": {},
   "source": [
    "#### Data Loading"
   ]
  },
  {
   "cell_type": "code",
   "execution_count": 25,
   "metadata": {},
   "outputs": [],
   "source": [
    "import os\n",
    "import pandas as pd\n",
    "\n",
    "# Current working directory\n",
    "cwd = os.getcwd()\n",
    "\n",
    "# Relative paths\n",
    "data_train_path = os.path.join(cwd, '..', 'data', 'data_train-1.csv')\n",
    "data_test_path = os.path.join(cwd, '..', 'data', 'data_test-1.csv')\n",
    "\n",
    "# Load the training data\n",
    "data_train = pd.read_csv(data_train_path)\n",
    "\n",
    "# Load the test data\n",
    "data_test = pd.read_csv(data_test_path)"
   ]
  },
  {
   "cell_type": "markdown",
   "metadata": {},
   "source": [
    "#### Data Split"
   ]
  },
  {
   "cell_type": "code",
   "execution_count": 26,
   "metadata": {},
   "outputs": [],
   "source": [
    "from sklearn.model_selection import train_test_split\n",
    "\n",
    "# Split the data_train into data_train and data_valid (80% train, 20% validation)\n",
    "data_train, data_valid = train_test_split(data_train, test_size=0.2, random_state=42)"
   ]
  },
  {
   "cell_type": "code",
   "execution_count": 27,
   "metadata": {},
   "outputs": [
    {
     "data": {
      "text/html": [
       "<div>\n",
       "<style scoped>\n",
       "    .dataframe tbody tr th:only-of-type {\n",
       "        vertical-align: middle;\n",
       "    }\n",
       "\n",
       "    .dataframe tbody tr th {\n",
       "        vertical-align: top;\n",
       "    }\n",
       "\n",
       "    .dataframe thead th {\n",
       "        text-align: right;\n",
       "    }\n",
       "</style>\n",
       "<table border=\"1\" class=\"dataframe\">\n",
       "  <thead>\n",
       "    <tr style=\"text-align: right;\">\n",
       "      <th></th>\n",
       "      <th>Unnamed: 0</th>\n",
       "      <th>Loan_ID</th>\n",
       "      <th>Gender</th>\n",
       "      <th>Married</th>\n",
       "      <th>Dependents</th>\n",
       "      <th>Education</th>\n",
       "      <th>Self_Employed</th>\n",
       "      <th>ApplicantIncome</th>\n",
       "      <th>CoapplicantIncome</th>\n",
       "      <th>LoanAmount</th>\n",
       "      <th>Loan_Amount_Term</th>\n",
       "      <th>Credit_History</th>\n",
       "      <th>Property_Area</th>\n",
       "      <th>Loan_Status</th>\n",
       "    </tr>\n",
       "  </thead>\n",
       "  <tbody>\n",
       "    <tr>\n",
       "      <th>140</th>\n",
       "      <td>140</td>\n",
       "      <td>LP001387</td>\n",
       "      <td>Female</td>\n",
       "      <td>Yes</td>\n",
       "      <td>0</td>\n",
       "      <td>Graduate</td>\n",
       "      <td>NaN</td>\n",
       "      <td>2929</td>\n",
       "      <td>2333.0</td>\n",
       "      <td>139.0</td>\n",
       "      <td>360.0</td>\n",
       "      <td>1.0</td>\n",
       "      <td>Semiurban</td>\n",
       "      <td>Y</td>\n",
       "    </tr>\n",
       "    <tr>\n",
       "      <th>433</th>\n",
       "      <td>433</td>\n",
       "      <td>LP002341</td>\n",
       "      <td>Female</td>\n",
       "      <td>No</td>\n",
       "      <td>1</td>\n",
       "      <td>Graduate</td>\n",
       "      <td>No</td>\n",
       "      <td>2600</td>\n",
       "      <td>0.0</td>\n",
       "      <td>160.0</td>\n",
       "      <td>360.0</td>\n",
       "      <td>1.0</td>\n",
       "      <td>Urban</td>\n",
       "      <td>N</td>\n",
       "    </tr>\n",
       "    <tr>\n",
       "      <th>416</th>\n",
       "      <td>416</td>\n",
       "      <td>LP002140</td>\n",
       "      <td>Male</td>\n",
       "      <td>No</td>\n",
       "      <td>0</td>\n",
       "      <td>Graduate</td>\n",
       "      <td>No</td>\n",
       "      <td>8750</td>\n",
       "      <td>4167.0</td>\n",
       "      <td>308.0</td>\n",
       "      <td>360.0</td>\n",
       "      <td>1.0</td>\n",
       "      <td>Rural</td>\n",
       "      <td>N</td>\n",
       "    </tr>\n",
       "    <tr>\n",
       "      <th>489</th>\n",
       "      <td>489</td>\n",
       "      <td>LP002317</td>\n",
       "      <td>Male</td>\n",
       "      <td>Yes</td>\n",
       "      <td>3+</td>\n",
       "      <td>Graduate</td>\n",
       "      <td>No</td>\n",
       "      <td>81000</td>\n",
       "      <td>0.0</td>\n",
       "      <td>360.0</td>\n",
       "      <td>360.0</td>\n",
       "      <td>0.0</td>\n",
       "      <td>Rural</td>\n",
       "      <td>N</td>\n",
       "    </tr>\n",
       "    <tr>\n",
       "      <th>25</th>\n",
       "      <td>25</td>\n",
       "      <td>LP001206</td>\n",
       "      <td>Male</td>\n",
       "      <td>Yes</td>\n",
       "      <td>3+</td>\n",
       "      <td>Graduate</td>\n",
       "      <td>No</td>\n",
       "      <td>3029</td>\n",
       "      <td>0.0</td>\n",
       "      <td>99.0</td>\n",
       "      <td>360.0</td>\n",
       "      <td>1.0</td>\n",
       "      <td>Urban</td>\n",
       "      <td>Y</td>\n",
       "    </tr>\n",
       "  </tbody>\n",
       "</table>\n",
       "</div>"
      ],
      "text/plain": [
       "     Unnamed: 0   Loan_ID  Gender Married Dependents Education Self_Employed  \\\n",
       "140         140  LP001387  Female     Yes          0  Graduate           NaN   \n",
       "433         433  LP002341  Female      No          1  Graduate            No   \n",
       "416         416  LP002140    Male      No          0  Graduate            No   \n",
       "489         489  LP002317    Male     Yes         3+  Graduate            No   \n",
       "25           25  LP001206    Male     Yes         3+  Graduate            No   \n",
       "\n",
       "     ApplicantIncome  CoapplicantIncome  LoanAmount  Loan_Amount_Term  \\\n",
       "140             2929             2333.0       139.0             360.0   \n",
       "433             2600                0.0       160.0             360.0   \n",
       "416             8750             4167.0       308.0             360.0   \n",
       "489            81000                0.0       360.0             360.0   \n",
       "25              3029                0.0        99.0             360.0   \n",
       "\n",
       "     Credit_History Property_Area Loan_Status  \n",
       "140             1.0     Semiurban           Y  \n",
       "433             1.0         Urban           N  \n",
       "416             1.0         Rural           N  \n",
       "489             0.0         Rural           N  \n",
       "25              1.0         Urban           Y  "
      ]
     },
     "execution_count": 27,
     "metadata": {},
     "output_type": "execute_result"
    }
   ],
   "source": [
    "# Display the first 5 rows\n",
    "data_train.head()"
   ]
  },
  {
   "cell_type": "code",
   "execution_count": 28,
   "metadata": {},
   "outputs": [
    {
     "name": "stdout",
     "output_type": "stream",
     "text": [
      "\n",
      "Shape of the training data: (392, 14)\n",
      "Column names: ['Unnamed: 0', 'Loan_ID', 'Gender', 'Married', 'Dependents', 'Education', 'Self_Employed', 'ApplicantIncome', 'CoapplicantIncome', 'LoanAmount', 'Loan_Amount_Term', 'Credit_History', 'Property_Area', 'Loan_Status']\n",
      "\n",
      "Shape of the validation data: (99, 14)\n",
      "Column names: ['Unnamed: 0', 'Loan_ID', 'Gender', 'Married', 'Dependents', 'Education', 'Self_Employed', 'ApplicantIncome', 'CoapplicantIncome', 'LoanAmount', 'Loan_Amount_Term', 'Credit_History', 'Property_Area', 'Loan_Status']\n",
      "\n",
      "Shape of the test data: (123, 13)\n",
      "Column names: ['Unnamed: 0', 'Loan_ID', 'Gender', 'Married', 'Dependents', 'Education', 'Self_Employed', 'ApplicantIncome', 'CoapplicantIncome', 'LoanAmount', 'Loan_Amount_Term', 'Credit_History', 'Property_Area']\n"
     ]
    }
   ],
   "source": [
    "# Print the shape of the data\n",
    "print(f\"\\nShape of the training data: {data_train.shape}\")\n",
    "print(f\"Column names: {data_train.columns.to_list()}\")\n",
    "\n",
    "print(f\"\\nShape of the validation data: {data_valid.shape}\")\n",
    "print(f\"Column names: {data_valid.columns.to_list()}\")\n",
    "\n",
    "print(f\"\\nShape of the test data: {data_test.shape}\")\n",
    "print(f\"Column names: {data_test.columns.to_list()}\")"
   ]
  },
  {
   "cell_type": "markdown",
   "metadata": {},
   "source": [
    "#### Data Cleaning"
   ]
  },
  {
   "cell_type": "code",
   "execution_count": 29,
   "metadata": {},
   "outputs": [
    {
     "name": "stdout",
     "output_type": "stream",
     "text": [
      "Number of missing values for each column in the training data:\n",
      "Gender               10\n",
      "Married               2\n",
      "Dependents           10\n",
      "Education             0\n",
      "Self_Employed        22\n",
      "ApplicantIncome       0\n",
      "CoapplicantIncome     0\n",
      "LoanAmount           15\n",
      "Loan_Amount_Term      7\n",
      "Credit_History       28\n",
      "Property_Area         0\n",
      "Loan_Status           0\n",
      "dtype: int64\n",
      "Total number of missing values in the train dataset: 94\n",
      "\n",
      "Number of missing values for each column in the validation data:\n",
      "Gender                2\n",
      "Married               1\n",
      "Dependents            3\n",
      "Education             0\n",
      "Self_Employed         7\n",
      "ApplicantIncome       0\n",
      "CoapplicantIncome     0\n",
      "LoanAmount            2\n",
      "Loan_Amount_Term      5\n",
      "Credit_History       15\n",
      "Property_Area         0\n",
      "Loan_Status           0\n",
      "dtype: int64\n",
      "Total number of missing values in the validation dataset: 35\n",
      "\n",
      "Number of missing values for each column in the test data:\n",
      "Gender               1\n",
      "Married              0\n",
      "Dependents           2\n",
      "Education            0\n",
      "Self_Employed        3\n",
      "ApplicantIncome      0\n",
      "CoapplicantIncome    0\n",
      "LoanAmount           5\n",
      "Loan_Amount_Term     2\n",
      "Credit_History       7\n",
      "Property_Area        0\n",
      "dtype: int64\n",
      "Total number of missing values in the test dataset: 20\n"
     ]
    }
   ],
   "source": [
    "# Drop the 'Unnamed: 0' index column\n",
    "data_train.drop(columns=['Unnamed: 0', 'Loan_ID'], inplace=True)\n",
    "data_valid.drop(columns=['Unnamed: 0', 'Loan_ID'], inplace=True)\n",
    "data_test.drop(columns=['Unnamed: 0', 'Loan_ID'], inplace=True)\n",
    "\n",
    "# Check for missing values\n",
    "missing_values = data_train.isnull().sum()\n",
    "print(\"Number of missing values for each column in the training data:\")\n",
    "print(missing_values)\n",
    "print(f\"Total number of missing values in the train dataset: {missing_values.sum()}\\n\")\n",
    "\n",
    "missing_values = data_valid.isnull().sum()\n",
    "print(\"Number of missing values for each column in the validation data:\")\n",
    "print(missing_values)\n",
    "print(f\"Total number of missing values in the validation dataset: {missing_values.sum()}\\n\")\n",
    "\n",
    "missing_values = data_test.isnull().sum()\n",
    "print(\"Number of missing values for each column in the test data:\")\n",
    "print(missing_values)\n",
    "print(f\"Total number of missing values in the test dataset: {missing_values.sum()}\")"
   ]
  },
  {
   "cell_type": "code",
   "execution_count": 30,
   "metadata": {},
   "outputs": [
    {
     "name": "stdout",
     "output_type": "stream",
     "text": [
      "Shape of the train data after dropping missing data: (307, 12)\n",
      "Shape of the validation data after dropping missing data: (66, 12)\n",
      "Shape of the test data after dropping missing data: (107, 11)\n"
     ]
    }
   ],
   "source": [
    "# Drop rows with missing data in original dataframe using inplace=True\n",
    "data_train.dropna(inplace=True)\n",
    "print(f\"Shape of the train data after dropping missing data: {data_train.shape}\")\n",
    "\n",
    "data_valid.dropna(inplace=True)\n",
    "print(f\"Shape of the validation data after dropping missing data: {data_valid.shape}\")\n",
    "\n",
    "data_test.dropna(inplace=True)\n",
    "print(f\"Shape of the test data after dropping missing data: {data_test.shape}\")"
   ]
  },
  {
   "cell_type": "code",
   "execution_count": 31,
   "metadata": {},
   "outputs": [
    {
     "data": {
      "text/html": [
       "<div>\n",
       "<style scoped>\n",
       "    .dataframe tbody tr th:only-of-type {\n",
       "        vertical-align: middle;\n",
       "    }\n",
       "\n",
       "    .dataframe tbody tr th {\n",
       "        vertical-align: top;\n",
       "    }\n",
       "\n",
       "    .dataframe thead th {\n",
       "        text-align: right;\n",
       "    }\n",
       "</style>\n",
       "<table border=\"1\" class=\"dataframe\">\n",
       "  <thead>\n",
       "    <tr style=\"text-align: right;\">\n",
       "      <th></th>\n",
       "      <th>Gender</th>\n",
       "      <th>Married</th>\n",
       "      <th>Dependents</th>\n",
       "      <th>Education</th>\n",
       "      <th>Self_Employed</th>\n",
       "      <th>ApplicantIncome</th>\n",
       "      <th>CoapplicantIncome</th>\n",
       "      <th>LoanAmount</th>\n",
       "      <th>Loan_Amount_Term</th>\n",
       "      <th>Credit_History</th>\n",
       "      <th>Property_Area</th>\n",
       "      <th>Loan_Status</th>\n",
       "    </tr>\n",
       "  </thead>\n",
       "  <tbody>\n",
       "    <tr>\n",
       "      <th>433</th>\n",
       "      <td>Female</td>\n",
       "      <td>No</td>\n",
       "      <td>1</td>\n",
       "      <td>Graduate</td>\n",
       "      <td>No</td>\n",
       "      <td>2600</td>\n",
       "      <td>0.0</td>\n",
       "      <td>160.0</td>\n",
       "      <td>360.0</td>\n",
       "      <td>1.0</td>\n",
       "      <td>Urban</td>\n",
       "      <td>N</td>\n",
       "    </tr>\n",
       "    <tr>\n",
       "      <th>416</th>\n",
       "      <td>Male</td>\n",
       "      <td>No</td>\n",
       "      <td>0</td>\n",
       "      <td>Graduate</td>\n",
       "      <td>No</td>\n",
       "      <td>8750</td>\n",
       "      <td>4167.0</td>\n",
       "      <td>308.0</td>\n",
       "      <td>360.0</td>\n",
       "      <td>1.0</td>\n",
       "      <td>Rural</td>\n",
       "      <td>N</td>\n",
       "    </tr>\n",
       "    <tr>\n",
       "      <th>489</th>\n",
       "      <td>Male</td>\n",
       "      <td>Yes</td>\n",
       "      <td>3+</td>\n",
       "      <td>Graduate</td>\n",
       "      <td>No</td>\n",
       "      <td>81000</td>\n",
       "      <td>0.0</td>\n",
       "      <td>360.0</td>\n",
       "      <td>360.0</td>\n",
       "      <td>0.0</td>\n",
       "      <td>Rural</td>\n",
       "      <td>N</td>\n",
       "    </tr>\n",
       "    <tr>\n",
       "      <th>25</th>\n",
       "      <td>Male</td>\n",
       "      <td>Yes</td>\n",
       "      <td>3+</td>\n",
       "      <td>Graduate</td>\n",
       "      <td>No</td>\n",
       "      <td>3029</td>\n",
       "      <td>0.0</td>\n",
       "      <td>99.0</td>\n",
       "      <td>360.0</td>\n",
       "      <td>1.0</td>\n",
       "      <td>Urban</td>\n",
       "      <td>Y</td>\n",
       "    </tr>\n",
       "    <tr>\n",
       "      <th>461</th>\n",
       "      <td>Male</td>\n",
       "      <td>Yes</td>\n",
       "      <td>2</td>\n",
       "      <td>Graduate</td>\n",
       "      <td>Yes</td>\n",
       "      <td>5417</td>\n",
       "      <td>4196.0</td>\n",
       "      <td>267.0</td>\n",
       "      <td>360.0</td>\n",
       "      <td>1.0</td>\n",
       "      <td>Urban</td>\n",
       "      <td>Y</td>\n",
       "    </tr>\n",
       "  </tbody>\n",
       "</table>\n",
       "</div>"
      ],
      "text/plain": [
       "     Gender Married Dependents Education Self_Employed  ApplicantIncome  \\\n",
       "433  Female      No          1  Graduate            No             2600   \n",
       "416    Male      No          0  Graduate            No             8750   \n",
       "489    Male     Yes         3+  Graduate            No            81000   \n",
       "25     Male     Yes         3+  Graduate            No             3029   \n",
       "461    Male     Yes          2  Graduate           Yes             5417   \n",
       "\n",
       "     CoapplicantIncome  LoanAmount  Loan_Amount_Term  Credit_History  \\\n",
       "433                0.0       160.0             360.0             1.0   \n",
       "416             4167.0       308.0             360.0             1.0   \n",
       "489                0.0       360.0             360.0             0.0   \n",
       "25                 0.0        99.0             360.0             1.0   \n",
       "461             4196.0       267.0             360.0             1.0   \n",
       "\n",
       "    Property_Area Loan_Status  \n",
       "433         Urban           N  \n",
       "416         Rural           N  \n",
       "489         Rural           N  \n",
       "25          Urban           Y  \n",
       "461         Urban           Y  "
      ]
     },
     "execution_count": 31,
     "metadata": {},
     "output_type": "execute_result"
    }
   ],
   "source": [
    "# Display the first 5 rows\n",
    "data_train.head()"
   ]
  },
  {
   "cell_type": "markdown",
   "metadata": {},
   "source": [
    "#### Feature and Label Extraction"
   ]
  },
  {
   "cell_type": "code",
   "execution_count": 32,
   "metadata": {},
   "outputs": [
    {
     "name": "stdout",
     "output_type": "stream",
     "text": [
      "Features: ['Gender', 'Married', 'Dependents', 'Education', 'Self_Employed', 'ApplicantIncome', 'CoapplicantIncome', 'LoanAmount', 'Loan_Amount_Term', 'Credit_History', 'Property_Area']\n",
      "Label: Loan_Status\n"
     ]
    }
   ],
   "source": [
    "# Extract the features and the label\n",
    "X_train = data_train.drop(columns=['Loan_Status'], inplace=False)\n",
    "y_train = data_train['Loan_Status']\n",
    "\n",
    "X_valid = data_train.drop(columns=['Loan_Status'], inplace=False)\n",
    "y_valid = data_train['Loan_Status']\n",
    "\n",
    "X_test = data_test\n",
    "\n",
    "print(f\"Features: {X_train.columns.tolist()}\")\n",
    "print(f\"Label: {y_train.name}\")"
   ]
  },
  {
   "cell_type": "code",
   "execution_count": 33,
   "metadata": {},
   "outputs": [
    {
     "name": "stdout",
     "output_type": "stream",
     "text": [
      "Non-numerical columns: ['Gender', 'Married', 'Dependents', 'Education', 'Self_Employed', 'Property_Area']\n",
      "Encoding complete. Here are the encoded values for each non-numerical column:\n",
      "Gender: {'Female': 0, 'Male': 1}\n",
      "Married: {'No': 0, 'Yes': 1}\n",
      "Dependents: {'0': 0, '1': 1, '2': 2, '3+': 3}\n",
      "Education: {'Graduate': 0, 'Not Graduate': 1}\n",
      "Self_Employed: {'No': 0, 'Yes': 1}\n",
      "Property_Area: {'Rural': 0, 'Semiurban': 1, 'Urban': 2}\n"
     ]
    }
   ],
   "source": [
    "# Identify non-numerical columns\n",
    "non_numerical_columns = X_train.select_dtypes(include=['object']).columns\n",
    "print(f\"Non-numerical columns: {non_numerical_columns.tolist()}\")\n",
    "\n",
    "# Apply manual Label Encoding for each non-numerical column\n",
    "label_encoders = {}\n",
    "for column in non_numerical_columns:\n",
    "    # Get the unique values from the training data\n",
    "    unique_values = sorted(X_train[column].unique())\n",
    "    # Create a dictionary mapping each unique value to an integer\n",
    "    encoding_map = {value: idx for idx, value in enumerate(unique_values)}\n",
    "    \n",
    "    # Apply the mapping to train, validation, and test sets\n",
    "    X_train[column] = X_train[column].map(encoding_map)\n",
    "    X_valid[column] = X_valid[column].map(encoding_map)\n",
    "    X_test[column] = X_test[column].map(encoding_map)\n",
    "    \n",
    "    # Store the encoder map\n",
    "    label_encoders[column] = encoding_map\n",
    "\n",
    "print(\"Encoding complete. Here are the encoded values for each non-numerical column:\")\n",
    "for column in non_numerical_columns:\n",
    "    print(f\"{column}: {label_encoders[column]}\")\n",
    "\n"
   ]
  },
  {
   "cell_type": "code",
   "execution_count": 34,
   "metadata": {},
   "outputs": [
    {
     "name": "stdout",
     "output_type": "stream",
     "text": [
      "Target encoding complete. Here are the encoded values for y: {'N': 0, 'Y': 1}\n"
     ]
    }
   ],
   "source": [
    "# Encode y if it contains non-numerical data\n",
    "if y_train.dtype == 'object':\n",
    "    unique_values = sorted(y_train.unique())\n",
    "    y_encoding_map = {value: idx for idx, value in enumerate(unique_values)}\n",
    "    \n",
    "    y_train = y_train.map(y_encoding_map)\n",
    "    y_valid = y_valid.map(y_encoding_map)\n",
    "    \n",
    "    print(f\"Target encoding complete. Here are the encoded values for y: {y_encoding_map}\")"
   ]
  },
  {
   "cell_type": "code",
   "execution_count": 35,
   "metadata": {},
   "outputs": [
    {
     "data": {
      "text/plain": [
       "433    0\n",
       "416    0\n",
       "489    0\n",
       "25     1\n",
       "461    1\n",
       "Name: Loan_Status, dtype: int64"
      ]
     },
     "execution_count": 35,
     "metadata": {},
     "output_type": "execute_result"
    }
   ],
   "source": [
    "y_train.head()"
   ]
  },
  {
   "cell_type": "code",
   "execution_count": 36,
   "metadata": {},
   "outputs": [
    {
     "data": {
      "text/html": [
       "<div>\n",
       "<style scoped>\n",
       "    .dataframe tbody tr th:only-of-type {\n",
       "        vertical-align: middle;\n",
       "    }\n",
       "\n",
       "    .dataframe tbody tr th {\n",
       "        vertical-align: top;\n",
       "    }\n",
       "\n",
       "    .dataframe thead th {\n",
       "        text-align: right;\n",
       "    }\n",
       "</style>\n",
       "<table border=\"1\" class=\"dataframe\">\n",
       "  <thead>\n",
       "    <tr style=\"text-align: right;\">\n",
       "      <th></th>\n",
       "      <th>Gender</th>\n",
       "      <th>Married</th>\n",
       "      <th>Dependents</th>\n",
       "      <th>Education</th>\n",
       "      <th>Self_Employed</th>\n",
       "      <th>ApplicantIncome</th>\n",
       "      <th>CoapplicantIncome</th>\n",
       "      <th>LoanAmount</th>\n",
       "      <th>Loan_Amount_Term</th>\n",
       "      <th>Credit_History</th>\n",
       "      <th>Property_Area</th>\n",
       "    </tr>\n",
       "  </thead>\n",
       "  <tbody>\n",
       "    <tr>\n",
       "      <th>433</th>\n",
       "      <td>0</td>\n",
       "      <td>0</td>\n",
       "      <td>1</td>\n",
       "      <td>0</td>\n",
       "      <td>0</td>\n",
       "      <td>2600</td>\n",
       "      <td>0.0</td>\n",
       "      <td>160.0</td>\n",
       "      <td>360.0</td>\n",
       "      <td>1.0</td>\n",
       "      <td>2</td>\n",
       "    </tr>\n",
       "    <tr>\n",
       "      <th>416</th>\n",
       "      <td>1</td>\n",
       "      <td>0</td>\n",
       "      <td>0</td>\n",
       "      <td>0</td>\n",
       "      <td>0</td>\n",
       "      <td>8750</td>\n",
       "      <td>4167.0</td>\n",
       "      <td>308.0</td>\n",
       "      <td>360.0</td>\n",
       "      <td>1.0</td>\n",
       "      <td>0</td>\n",
       "    </tr>\n",
       "    <tr>\n",
       "      <th>489</th>\n",
       "      <td>1</td>\n",
       "      <td>1</td>\n",
       "      <td>3</td>\n",
       "      <td>0</td>\n",
       "      <td>0</td>\n",
       "      <td>81000</td>\n",
       "      <td>0.0</td>\n",
       "      <td>360.0</td>\n",
       "      <td>360.0</td>\n",
       "      <td>0.0</td>\n",
       "      <td>0</td>\n",
       "    </tr>\n",
       "    <tr>\n",
       "      <th>25</th>\n",
       "      <td>1</td>\n",
       "      <td>1</td>\n",
       "      <td>3</td>\n",
       "      <td>0</td>\n",
       "      <td>0</td>\n",
       "      <td>3029</td>\n",
       "      <td>0.0</td>\n",
       "      <td>99.0</td>\n",
       "      <td>360.0</td>\n",
       "      <td>1.0</td>\n",
       "      <td>2</td>\n",
       "    </tr>\n",
       "    <tr>\n",
       "      <th>461</th>\n",
       "      <td>1</td>\n",
       "      <td>1</td>\n",
       "      <td>2</td>\n",
       "      <td>0</td>\n",
       "      <td>1</td>\n",
       "      <td>5417</td>\n",
       "      <td>4196.0</td>\n",
       "      <td>267.0</td>\n",
       "      <td>360.0</td>\n",
       "      <td>1.0</td>\n",
       "      <td>2</td>\n",
       "    </tr>\n",
       "  </tbody>\n",
       "</table>\n",
       "</div>"
      ],
      "text/plain": [
       "     Gender  Married  Dependents  Education  Self_Employed  ApplicantIncome  \\\n",
       "433       0        0           1          0              0             2600   \n",
       "416       1        0           0          0              0             8750   \n",
       "489       1        1           3          0              0            81000   \n",
       "25        1        1           3          0              0             3029   \n",
       "461       1        1           2          0              1             5417   \n",
       "\n",
       "     CoapplicantIncome  LoanAmount  Loan_Amount_Term  Credit_History  \\\n",
       "433                0.0       160.0             360.0             1.0   \n",
       "416             4167.0       308.0             360.0             1.0   \n",
       "489                0.0       360.0             360.0             0.0   \n",
       "25                 0.0        99.0             360.0             1.0   \n",
       "461             4196.0       267.0             360.0             1.0   \n",
       "\n",
       "     Property_Area  \n",
       "433              2  \n",
       "416              0  \n",
       "489              0  \n",
       "25               2  \n",
       "461              2  "
      ]
     },
     "execution_count": 36,
     "metadata": {},
     "output_type": "execute_result"
    }
   ],
   "source": [
    "# Display the first 5 rows\n",
    "X_train.head()"
   ]
  },
  {
   "cell_type": "markdown",
   "metadata": {},
   "source": [
    "## Exploratory Data Analysis"
   ]
  },
  {
   "cell_type": "code",
   "execution_count": 37,
   "metadata": {},
   "outputs": [
    {
     "data": {
      "image/png": "[encoded data removed]",
      "text/plain": [
       "<Figure size 1500x1000 with 12 Axes>"
      ]
     },
     "metadata": {},
     "output_type": "display_data"
    }
   ],
   "source": [
    "import matplotlib.pyplot as plt\n",
    "\n",
    "# Plot histograms\n",
    "X_train.hist(bins=50, figsize=(15, 10))\n",
    "plt.tight_layout()\n",
    "plt.show()"
   ]
  },
  {
   "cell_type": "markdown",
   "metadata": {},
   "source": [
    "## Classification Tree Implementation"
   ]
  },
  {
   "cell_type": "code",
   "execution_count": null,
   "metadata": {},
   "outputs": [],
   "source": []
  },
  {
   "cell_type": "markdown",
   "metadata": {},
   "source": [
    "## Boosting (XGBoost)"
   ]
  },
  {
   "cell_type": "code",
   "execution_count": null,
   "metadata": {},
   "outputs": [],
   "source": []
  }
 ],
 "metadata": {
  "kernelspec": {
   "display_name": "Python 3",
   "language": "python",
   "name": "python3"
  },
  "language_info": {
   "codemirror_mode": {
    "name": "ipython",
    "version": 3
   },
   "file_extension": ".py",
   "mimetype": "text/x-python",
   "name": "python",
   "nbconvert_exporter": "python",
   "pygments_lexer": "ipython3",
   "version": "3.8.10"
  }
 },
 "nbformat": 4,
 "nbformat_minor": 2
}
